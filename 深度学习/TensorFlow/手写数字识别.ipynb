from __future__ import print_function

# 导入MINST数据集
from tensorflow.examples.tutorials.mnist import input_data
minst = input_data.read_data_sets("/tmp/data/" , one_hot = True)

import tensorflow as tf
