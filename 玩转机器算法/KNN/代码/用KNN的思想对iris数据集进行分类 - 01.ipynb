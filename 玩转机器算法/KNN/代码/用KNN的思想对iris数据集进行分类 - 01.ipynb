{
 "cells": [
  {
   "cell_type": "code",
   "execution_count": 1,
   "metadata": {},
   "outputs": [
    {
     "name": "stdout",
     "output_type": "stream",
     "text": [
      "[[5.1 3.5 1.4 0.2]\n",
      " [4.9 3.  1.4 0.2]]\n",
      "[0 0]\n"
     ]
    }
   ],
   "source": [
    "# 导包和拿数据集\n",
    "import numpy as np\n",
    "from math import sqrt\n",
    "from collections import Counter\n",
    "from sklearn.datasets import load_iris\n",
    "iris = load_iris()\n",
    "logits = iris.data \n",
    "labels = iris.target\n",
    "print(logits[:2])\n",
    "print(labels[:2])"
   ]
  },
  {
   "cell_type": "code",
   "execution_count": 2,
   "metadata": {},
   "outputs": [],
   "source": [
    "# 常规操作，划分数据集\n",
    "def train_test_split(X , y , test_ratio = 0.2 , seed = None):\n",
    "    assert X.shape[0] == y.shape[0] , '特征和标签的长度要相同'\n",
    "    assert 0 <= test_ratio <= 1 , 'test_ratio参数要符合规范'\n",
    "    \n",
    "    # 随机种子\n",
    "    if seed:\n",
    "        np.random.seed(seed)\n",
    "        \n",
    "    shuffled_indexes = np.random.permutation(len(X))\n",
    "    test_size = int(len(y) * test_ratio)\n",
    "    test_indexes = shuffled_indexes[:test_size]\n",
    "    train_indexes = shuffled_indexes[test_size:]\n",
    "    \n",
    "    X_train = X[train_indexes]\n",
    "    y_train = y[train_indexes]\n",
    "    X_test = X[test_indexes]\n",
    "    y_test = y[test_indexes]\n",
    "    \n",
    "    return X_train , X_test , y_train , y_test\n",
    "\n",
    "X_train , X_test , y_train , y_test = train_test_split(logits , labels , test_ratio = 0.2)"
   ]
  },
  {
   "cell_type": "code",
   "execution_count": 3,
   "metadata": {},
   "outputs": [
    {
     "data": {
      "text/plain": [
       "array([1, 2, 0, 0, 2, 2, 0, 2, 1, 2])"
      ]
     },
     "execution_count": 3,
     "metadata": {},
     "output_type": "execute_result"
    }
   ],
   "source": [
    "# 实现knn\n",
    "k = 3\n",
    "y_predict = []\n",
    "for x in X_test:\n",
    "    distances = [sqrt(np.sum((x_train - x) ** 2)) for x_train in X_train]\n",
    "    nearest = np.argsort(distances)\n",
    "    topK_y = [y_train[i] for i in nearest[:k]]\n",
    "    vote = Counter(topK_y)\n",
    "    y_predict.append(vote.most_common(1)[0][0])\n",
    "y_predict = np.array(y_predict)\n",
    "y_predict[:10]"
   ]
  },
  {
   "cell_type": "code",
   "execution_count": 4,
   "metadata": {},
   "outputs": [
    {
     "data": {
      "text/plain": [
       "0.9333333333333333"
      ]
     },
     "execution_count": 4,
     "metadata": {},
     "output_type": "execute_result"
    }
   ],
   "source": [
    "# 预测模型准确度\n",
    "score = np.sum(y_test == y_predict) / len(y_test)\n",
    "score"
   ]
  }
 ],
 "metadata": {
  "kernelspec": {
   "display_name": "Python 3",
   "language": "python",
   "name": "python3"
  },
  "language_info": {
   "codemirror_mode": {
    "name": "ipython",
    "version": 3
   },
   "file_extension": ".py",
   "mimetype": "text/x-python",
   "name": "python",
   "nbconvert_exporter": "python",
   "pygments_lexer": "ipython3",
   "version": "3.7.0"
  }
 },
 "nbformat": 4,
 "nbformat_minor": 2
}
