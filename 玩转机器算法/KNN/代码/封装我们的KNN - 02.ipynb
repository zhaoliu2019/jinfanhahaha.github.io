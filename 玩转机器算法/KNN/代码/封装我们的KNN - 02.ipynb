{
 "cells": [
  {
   "cell_type": "code",
   "execution_count": 1,
   "metadata": {},
   "outputs": [
    {
     "name": "stdout",
     "output_type": "stream",
     "text": [
      "[[5.1 3.5 1.4 0.2]\n",
      " [4.9 3.  1.4 0.2]]\n",
      "[0 0]\n"
     ]
    }
   ],
   "source": [
    "# 导包和拿数据集\n",
    "import numpy as np\n",
    "from math import sqrt\n",
    "from collections import Counter\n",
    "from sklearn.datasets import load_iris\n",
    "iris = load_iris()\n",
    "logits = iris.data\n",
    "labels = iris.target\n",
    "print(logits[:2])\n",
    "print(labels[:2])"
   ]
  },
  {
   "cell_type": "code",
   "execution_count": 2,
   "metadata": {},
   "outputs": [],
   "source": [
    "# 常规操作，划分数据集\n",
    "def train_test_split(X , y , test_ratio = 0.2 , seed = None):\n",
    "    assert X.shape[0] == y.shape[0] , '特征和标签的长度要相同'\n",
    "    assert 0 <= test_ratio <= 1 , 'test_ratio参数要符合规范'\n",
    "    \n",
    "    # 随机种子\n",
    "    if seed:\n",
    "        np.random.seed(seed)\n",
    "        \n",
    "    shuffled_indexes = np.random.permutation(len(X))\n",
    "    test_size = int(len(y) * test_ratio)\n",
    "    test_indexes = shuffled_indexes[:test_size]\n",
    "    train_indexes = shuffled_indexes[test_size:]\n",
    "    \n",
    "    X_train = X[train_indexes]\n",
    "    y_train = y[train_indexes]\n",
    "    X_test = X[test_indexes]\n",
    "    y_test = y[test_indexes]\n",
    "    \n",
    "    return X_train , X_test , y_train , y_test\n",
    "\n",
    "X_train , X_test , y_train , y_test = train_test_split(logits , labels , test_ratio = 0.2)"
   ]
  },
  {
   "cell_type": "code",
   "execution_count": 3,
   "metadata": {},
   "outputs": [],
   "source": [
    "# 封装KNN\n",
    "class KNNClassifier:\n",
    "\n",
    "    def __init__(self, k):\n",
    "        \"\"\"初始化kNN分类器\"\"\"\n",
    "        assert k >= 1, \"k must be valid\"\n",
    "        self.k = k\n",
    "        self._X_train = None\n",
    "        self._y_train = None\n",
    "\n",
    "    def fit(self, X_train, y_train):\n",
    "        \"\"\"根据训练数据集X_train和y_train训练kNN分类器\"\"\"\n",
    "        assert X_train.shape[0] == y_train.shape[0], \\\n",
    "            \"the size of X_train must be equal to the size of y_train\"\n",
    "        assert self.k <= X_train.shape[0], \\\n",
    "            \"the size of X_train must be at least k.\"\n",
    "\n",
    "        self._X_train = X_train\n",
    "        self._y_train = y_train\n",
    "        return self\n",
    "\n",
    "    def predict(self, X_predict):\n",
    "        \"\"\"给定待预测数据集X_predict，返回表示X_predict的结果向量\"\"\"\n",
    "        assert self._X_train is not None and self._y_train is not None, \\\n",
    "                \"must fit before predict!\"\n",
    "        assert X_predict.shape[1] == self._X_train.shape[1], \\\n",
    "                \"the feature number of X_predict must be equal to X_train\"\n",
    "\n",
    "        y_predict = [self._predict(x) for x in X_predict]\n",
    "        return np.array(y_predict)\n",
    "\n",
    "    def _predict(self, x):\n",
    "        \"\"\"给定单个待预测数据x，返回x的预测结果值\"\"\"\n",
    "        assert x.shape[0] == self._X_train.shape[1], \\\n",
    "            \"the feature number of x must be equal to X_train\"\n",
    "\n",
    "        distances = [sqrt(np.sum((x_train - x) ** 2))\n",
    "                     for x_train in self._X_train]\n",
    "        nearest = np.argsort(distances)\n",
    "\n",
    "        topK_y = [self._y_train[i] for i in nearest[:self.k]]\n",
    "        votes = Counter(topK_y)\n",
    "\n",
    "        return votes.most_common(1)[0][0]\n",
    "\n",
    "    def score(self, X_test, y_test):\n",
    "        \"\"\"根据测试数据集 X_test 和 y_test 确定当前模型的准确度\"\"\"\n",
    "\n",
    "        y_predict = self.predict(X_test)\n",
    "        return np.sum(y_test == y_predict) / len(y_test)\n",
    "\n",
    "    def __repr__(self):\n",
    "        return \"KNN(k=%d)\" % self.k"
   ]
  },
  {
   "cell_type": "code",
   "execution_count": 4,
   "metadata": {},
   "outputs": [
    {
     "name": "stdout",
     "output_type": "stream",
     "text": [
      "[2 1 2 2 0 2 2 2 2 1]\n",
      "0.9666666666666667\n"
     ]
    }
   ],
   "source": [
    "# 使用KNN分类模型\n",
    "KNN = KNNClassifier(k = 3)\n",
    "KNN.fit(X_train , y_train)\n",
    "print(KNN.predict(X_test)[:10])\n",
    "print(KNN.score(X_test , y_test))"
   ]
  }
 ],
 "metadata": {
  "kernelspec": {
   "display_name": "Python 3",
   "language": "python",
   "name": "python3"
  },
  "language_info": {
   "codemirror_mode": {
    "name": "ipython",
    "version": 3
   },
   "file_extension": ".py",
   "mimetype": "text/x-python",
   "name": "python",
   "nbconvert_exporter": "python",
   "pygments_lexer": "ipython3",
   "version": "3.7.0"
  }
 },
 "nbformat": 4,
 "nbformat_minor": 2
}
