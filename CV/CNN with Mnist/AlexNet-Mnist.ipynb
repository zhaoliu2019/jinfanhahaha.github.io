{
 "cells": [
  {
   "cell_type": "code",
   "execution_count": 1,
   "metadata": {},
   "outputs": [
    {
     "name": "stdout",
     "output_type": "stream",
     "text": [
      "WARNING:tensorflow:From <ipython-input-1-9f5e674d4ee6>:3: read_data_sets (from tensorflow.contrib.learn.python.learn.datasets.mnist) is deprecated and will be removed in a future version.\n",
      "Instructions for updating:\n",
      "Please use alternatives such as official/mnist/dataset.py from tensorflow/models.\n",
      "WARNING:tensorflow:From /anaconda3/lib/python3.7/site-packages/tensorflow/contrib/learn/python/learn/datasets/mnist.py:260: maybe_download (from tensorflow.contrib.learn.python.learn.datasets.base) is deprecated and will be removed in a future version.\n",
      "Instructions for updating:\n",
      "Please write your own downloading logic.\n",
      "WARNING:tensorflow:From /anaconda3/lib/python3.7/site-packages/tensorflow/contrib/learn/python/learn/datasets/mnist.py:262: extract_images (from tensorflow.contrib.learn.python.learn.datasets.mnist) is deprecated and will be removed in a future version.\n",
      "Instructions for updating:\n",
      "Please use tf.data to implement this functionality.\n",
      "Extracting ./MNIST_data/train-images-idx3-ubyte.gz\n",
      "WARNING:tensorflow:From /anaconda3/lib/python3.7/site-packages/tensorflow/contrib/learn/python/learn/datasets/mnist.py:267: extract_labels (from tensorflow.contrib.learn.python.learn.datasets.mnist) is deprecated and will be removed in a future version.\n",
      "Instructions for updating:\n",
      "Please use tf.data to implement this functionality.\n",
      "Extracting ./MNIST_data/train-labels-idx1-ubyte.gz\n",
      "WARNING:tensorflow:From /anaconda3/lib/python3.7/site-packages/tensorflow/contrib/learn/python/learn/datasets/mnist.py:110: dense_to_one_hot (from tensorflow.contrib.learn.python.learn.datasets.mnist) is deprecated and will be removed in a future version.\n",
      "Instructions for updating:\n",
      "Please use tf.one_hot on tensors.\n",
      "Extracting ./MNIST_data/t10k-images-idx3-ubyte.gz\n",
      "Extracting ./MNIST_data/t10k-labels-idx1-ubyte.gz\n",
      "WARNING:tensorflow:From /anaconda3/lib/python3.7/site-packages/tensorflow/contrib/learn/python/learn/datasets/mnist.py:290: DataSet.__init__ (from tensorflow.contrib.learn.python.learn.datasets.mnist) is deprecated and will be removed in a future version.\n",
      "Instructions for updating:\n",
      "Please use alternatives such as official/mnist/dataset.py from tensorflow/models.\n"
     ]
    }
   ],
   "source": [
    "import tensorflow as tf\n",
    "from tensorflow.examples.tutorials.mnist import input_data\n",
    "mnist = input_data.read_data_sets(\"./MNIST_data\" , one_hot = True)"
   ]
  },
  {
   "cell_type": "code",
   "execution_count": 2,
   "metadata": {},
   "outputs": [],
   "source": [
    "## 每个批次的大小\n",
    "batch_size = 100\n",
    "\n",
    "# 计算一共有多少批次\n",
    "n_batch = mnist.train.num_examples  // batch_size"
   ]
  },
  {
   "cell_type": "code",
   "execution_count": 3,
   "metadata": {},
   "outputs": [
    {
     "name": "stdout",
     "output_type": "stream",
     "text": [
      "WARNING:tensorflow:From <ipython-input-3-1b706f3f9a77>:14: conv2d (from tensorflow.python.layers.convolutional) is deprecated and will be removed in a future version.\n",
      "Instructions for updating:\n",
      "Use keras.layers.conv2d instead.\n",
      "WARNING:tensorflow:From /anaconda3/lib/python3.7/site-packages/tensorflow/python/framework/op_def_library.py:263: colocate_with (from tensorflow.python.framework.ops) is deprecated and will be removed in a future version.\n",
      "Instructions for updating:\n",
      "Colocations handled automatically by placer.\n",
      "WARNING:tensorflow:From <ipython-input-3-1b706f3f9a77>:19: max_pooling2d (from tensorflow.python.layers.pooling) is deprecated and will be removed in a future version.\n",
      "Instructions for updating:\n",
      "Use keras.layers.max_pooling2d instead.\n",
      "WARNING:tensorflow:From <ipython-input-3-1b706f3f9a77>:36: dense (from tensorflow.python.layers.core) is deprecated and will be removed in a future version.\n",
      "Instructions for updating:\n",
      "Use keras.layers.dense instead.\n",
      "WARNING:tensorflow:From <ipython-input-3-1b706f3f9a77>:40: softmax_cross_entropy_with_logits (from tensorflow.python.ops.nn_ops) is deprecated and will be removed in a future version.\n",
      "Instructions for updating:\n",
      "\n",
      "Future major versions of TensorFlow will allow gradients to flow\n",
      "into the labels input on backprop by default.\n",
      "\n",
      "See `tf.nn.softmax_cross_entropy_with_logits_v2`.\n",
      "\n"
     ]
    }
   ],
   "source": [
    "# 定义placeholder\n",
    "x = tf.placeholder(tf.float32 , [None , 784])\n",
    "y = tf.placeholder(tf.float32 , [None , 10])\n",
    "\n",
    "# 改变x的格式转为4D的向量 [batch , in_height , in_width , in_channels]\n",
    "x_image = tf.reshape(x , [-1,28,28,1])\n",
    "\n",
    "# conv1: 神经元图， feature_map, 输出图像\n",
    "conv1 = tf.layers.conv2d(x_image,\n",
    "                         28, # output channel number\n",
    "                         (5,5), # kernel size\n",
    "                         padding = 'same',\n",
    "                         activation = tf.nn.relu,\n",
    "                         name = 'conv1')\n",
    "\n",
    "pooling1 = tf.layers.max_pooling2d(conv1,\n",
    "                                   (2, 2), # kernel size\n",
    "                                   (2, 2), # stride\n",
    "                                   name = 'pool1')\n",
    "\n",
    "conv2 = tf.layers.conv2d(pooling1,\n",
    "                         64, # output channel number\n",
    "                         (5,5), # kernel size\n",
    "                         padding = 'same',\n",
    "                         activation = tf.nn.relu,\n",
    "                         name = 'conv2')\n",
    "\n",
    "pooling2 = tf.layers.max_pooling2d(conv2,\n",
    "                                   (2, 2), # kernel size\n",
    "                                   (2, 2), # stride\n",
    "                                   name = 'pool2')\n",
    "\n",
    "# 把池化层2的输出扁平化为1维\n",
    "h_pool2_flat = tf.reshape(pooling2 , [-1 , 7*7*64])\n",
    "\n",
    "hidden1 = tf.layers.dense(h_pool2_flat, 1024)\n",
    "prediction = tf.layers.dense(hidden1, 10)\n",
    "\n",
    "# 交叉熵代价函数\n",
    "loss = tf.reduce_mean(tf.nn.softmax_cross_entropy_with_logits(labels=y , logits=prediction))\n",
    "\n",
    "# 使用梯度下降\n",
    "train_step = tf.train.AdamOptimizer(1e-4).minimize(loss)\n",
    "\n",
    "# 结果存放在一个布尔型变量中\n",
    "correct_prediction = tf.equal(tf.argmax(y,1) , tf.argmax(prediction,1))\n",
    "\n",
    "# 求准确率\n",
    "accuracy = tf.reduce_mean(tf.cast(correct_prediction,tf.float32))"
   ]
  },
  {
   "cell_type": "code",
   "execution_count": 4,
   "metadata": {},
   "outputs": [
    {
     "name": "stdout",
     "output_type": "stream",
     "text": [
      "Iter0,Testing Accuracy : 0.9707\n",
      "Iter1,Testing Accuracy : 0.9819\n",
      "Iter2,Testing Accuracy : 0.9825\n",
      "Iter3,Testing Accuracy : 0.9864\n",
      "Iter4,Testing Accuracy : 0.9855\n",
      "Iter5,Testing Accuracy : 0.9868\n",
      "Iter6,Testing Accuracy : 0.9865\n",
      "Iter7,Testing Accuracy : 0.9886\n",
      "Iter8,Testing Accuracy : 0.9898\n",
      "Iter9,Testing Accuracy : 0.9876\n",
      "Iter10,Testing Accuracy : 0.9907\n",
      "Iter11,Testing Accuracy : 0.9907\n",
      "Iter12,Testing Accuracy : 0.9912\n",
      "Iter13,Testing Accuracy : 0.9906\n",
      "Iter14,Testing Accuracy : 0.9916\n",
      "Iter15,Testing Accuracy : 0.99\n",
      "Iter16,Testing Accuracy : 0.9916\n",
      "Iter17,Testing Accuracy : 0.9914\n",
      "Iter18,Testing Accuracy : 0.9896\n",
      "Iter19,Testing Accuracy : 0.991\n",
      "Iter20,Testing Accuracy : 0.9903\n"
     ]
    }
   ],
   "source": [
    "# 初始化变量\n",
    "init = tf.global_variables_initializer()\n",
    "\n",
    "with tf.Session() as sess:\n",
    "    sess.run(init)\n",
    "    for epoch in range(21):\n",
    "        for batch in range(n_batch):\n",
    "            batch_xs , batch_ys = mnist.train.next_batch(batch_size)\n",
    "            sess.run(train_step , feed_dict={\n",
    "                x:batch_xs,\n",
    "                y:batch_ys\n",
    "            })\n",
    "        acc = sess.run(accuracy , feed_dict={\n",
    "            x:mnist.test.images,\n",
    "            y:mnist.test.labels\n",
    "        })\n",
    "        print(\"Iter\" + str(epoch) + \",Testing Accuracy : \" + str(acc))"
   ]
  },
  {
   "cell_type": "code",
   "execution_count": null,
   "metadata": {},
   "outputs": [],
   "source": []
  }
 ],
 "metadata": {
  "kernelspec": {
   "display_name": "Python 3",
   "language": "python",
   "name": "python3"
  },
  "language_info": {
   "codemirror_mode": {
    "name": "ipython",
    "version": 3
   },
   "file_extension": ".py",
   "mimetype": "text/x-python",
   "name": "python",
   "nbconvert_exporter": "python",
   "pygments_lexer": "ipython3",
   "version": "3.7.0"
  }
 },
 "nbformat": 4,
 "nbformat_minor": 2
}
