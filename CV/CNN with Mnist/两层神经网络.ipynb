{
 "cells": [
  {
   "cell_type": "code",
   "execution_count": 1,
   "metadata": {},
   "outputs": [
    {
     "name": "stdout",
     "output_type": "stream",
     "text": [
      "WARNING:tensorflow:From <ipython-input-1-9f5e674d4ee6>:3: read_data_sets (from tensorflow.contrib.learn.python.learn.datasets.mnist) is deprecated and will be removed in a future version.\n",
      "Instructions for updating:\n",
      "Please use alternatives such as official/mnist/dataset.py from tensorflow/models.\n",
      "WARNING:tensorflow:From /anaconda3/lib/python3.7/site-packages/tensorflow/contrib/learn/python/learn/datasets/mnist.py:260: maybe_download (from tensorflow.contrib.learn.python.learn.datasets.base) is deprecated and will be removed in a future version.\n",
      "Instructions for updating:\n",
      "Please write your own downloading logic.\n",
      "WARNING:tensorflow:From /anaconda3/lib/python3.7/site-packages/tensorflow/contrib/learn/python/learn/datasets/mnist.py:262: extract_images (from tensorflow.contrib.learn.python.learn.datasets.mnist) is deprecated and will be removed in a future version.\n",
      "Instructions for updating:\n",
      "Please use tf.data to implement this functionality.\n",
      "Extracting ./MNIST_data/train-images-idx3-ubyte.gz\n",
      "WARNING:tensorflow:From /anaconda3/lib/python3.7/site-packages/tensorflow/contrib/learn/python/learn/datasets/mnist.py:267: extract_labels (from tensorflow.contrib.learn.python.learn.datasets.mnist) is deprecated and will be removed in a future version.\n",
      "Instructions for updating:\n",
      "Please use tf.data to implement this functionality.\n",
      "Extracting ./MNIST_data/train-labels-idx1-ubyte.gz\n",
      "WARNING:tensorflow:From /anaconda3/lib/python3.7/site-packages/tensorflow/contrib/learn/python/learn/datasets/mnist.py:110: dense_to_one_hot (from tensorflow.contrib.learn.python.learn.datasets.mnist) is deprecated and will be removed in a future version.\n",
      "Instructions for updating:\n",
      "Please use tf.one_hot on tensors.\n",
      "Extracting ./MNIST_data/t10k-images-idx3-ubyte.gz\n",
      "Extracting ./MNIST_data/t10k-labels-idx1-ubyte.gz\n",
      "WARNING:tensorflow:From /anaconda3/lib/python3.7/site-packages/tensorflow/contrib/learn/python/learn/datasets/mnist.py:290: DataSet.__init__ (from tensorflow.contrib.learn.python.learn.datasets.mnist) is deprecated and will be removed in a future version.\n",
      "Instructions for updating:\n",
      "Please use alternatives such as official/mnist/dataset.py from tensorflow/models.\n"
     ]
    }
   ],
   "source": [
    "import tensorflow as tf\n",
    "from tensorflow.examples.tutorials.mnist import input_data\n",
    "mnist = input_data.read_data_sets(\"./MNIST_data\" , one_hot = True)"
   ]
  },
  {
   "cell_type": "code",
   "execution_count": 2,
   "metadata": {},
   "outputs": [
    {
     "name": "stdout",
     "output_type": "stream",
     "text": [
      "WARNING:tensorflow:From /anaconda3/lib/python3.7/site-packages/tensorflow/python/framework/op_def_library.py:263: colocate_with (from tensorflow.python.framework.ops) is deprecated and will be removed in a future version.\n",
      "Instructions for updating:\n",
      "Colocations handled automatically by placer.\n",
      "WARNING:tensorflow:From <ipython-input-2-351a2bb9f818>:16: dense (from tensorflow.python.layers.core) is deprecated and will be removed in a future version.\n",
      "Instructions for updating:\n",
      "Use keras.layers.dense instead.\n",
      "WARNING:tensorflow:From <ipython-input-2-351a2bb9f818>:23: softmax_cross_entropy_with_logits (from tensorflow.python.ops.nn_ops) is deprecated and will be removed in a future version.\n",
      "Instructions for updating:\n",
      "\n",
      "Future major versions of TensorFlow will allow gradients to flow\n",
      "into the labels input on backprop by default.\n",
      "\n",
      "See `tf.nn.softmax_cross_entropy_with_logits_v2`.\n",
      "\n"
     ]
    }
   ],
   "source": [
    "## 每个批次的大小\n",
    "batch_size = 100\n",
    "\n",
    "# 计算一共有多少批次\n",
    "n_batch = mnist.train.num_examples  // batch_size\n",
    "\n",
    "# 计算一共有多少批次\n",
    "n_batch = mnist.train.num_examples  // batch_size\n",
    "\n",
    "# 定义placeholder\n",
    "x = tf.placeholder(tf.float32 , [None , 784])\n",
    "y = tf.placeholder(tf.float32 , [None , 10])\n",
    "keep_prob = tf.placeholder(tf.float32)\n",
    "lr = tf.Variable(0.001,dtype=tf.float32)\n",
    "\n",
    "hidden1 = tf.layers.dense(x, 500, activation=tf.nn.relu)\n",
    "hidden2 = tf.layers.dense(hidden1, 300, activation=tf.nn.relu)\n",
    "\n",
    "prediction = tf.layers.dense(hidden2, 10)\n",
    "\n",
    "# 二次代价函数\n",
    "#loss = tf.reduce_mean(tf.square(y-prediction))\n",
    "loss = tf.reduce_mean(tf.nn.softmax_cross_entropy_with_logits(labels=y , logits=prediction))\n",
    "\n",
    "# 使用梯度下降\n",
    "# train_step = tf.train.GradientDescentOptimizer(0.2).minimize(loss)\n",
    "train_step = tf.train.AdamOptimizer(lr).minimize(loss)\n",
    "# 初始化变量\n",
    "init = tf.global_variables_initializer()\n",
    "\n",
    "# 预测值\n",
    "predict = tf.argmax(prediction,1)\n",
    "\n",
    "# 结果存放在一个布尔型变量中\n",
    "correct_prediction = tf.equal(tf.argmax(y,1) , tf.argmax(prediction,1))\n",
    "\n",
    "# 求准确率\n",
    "accuracy = tf.reduce_mean(tf.cast(correct_prediction,tf.float32))"
   ]
  },
  {
   "cell_type": "code",
   "execution_count": 3,
   "metadata": {},
   "outputs": [
    {
     "name": "stdout",
     "output_type": "stream",
     "text": [
      "Iter0,Testing Accuracy : 0.9679,Learin_rate:0.001\n",
      "Iter1,Testing Accuracy : 0.9773,Learin_rate:0.00095\n",
      "Iter2,Testing Accuracy : 0.9765,Learin_rate:0.0009025\n",
      "Iter3,Testing Accuracy : 0.9799,Learin_rate:0.000857375\n",
      "Iter4,Testing Accuracy : 0.9802,Learin_rate:0.00081450626\n",
      "Iter5,Testing Accuracy : 0.9788,Learin_rate:0.0007737809\n",
      "Iter6,Testing Accuracy : 0.9773,Learin_rate:0.0007350919\n",
      "Iter7,Testing Accuracy : 0.978,Learin_rate:0.0006983373\n",
      "Iter8,Testing Accuracy : 0.9785,Learin_rate:0.0006634204\n",
      "Iter9,Testing Accuracy : 0.9833,Learin_rate:0.0006302494\n",
      "Iter10,Testing Accuracy : 0.9848,Learin_rate:0.0005987369\n",
      "Iter11,Testing Accuracy : 0.9856,Learin_rate:0.0005688001\n",
      "Iter12,Testing Accuracy : 0.9863,Learin_rate:0.0005403601\n",
      "Iter13,Testing Accuracy : 0.9862,Learin_rate:0.0005133421\n",
      "Iter14,Testing Accuracy : 0.9859,Learin_rate:0.000487675\n",
      "Iter15,Testing Accuracy : 0.9858,Learin_rate:0.00046329122\n",
      "Iter16,Testing Accuracy : 0.9858,Learin_rate:0.00044012666\n",
      "Iter17,Testing Accuracy : 0.9858,Learin_rate:0.00041812033\n",
      "Iter18,Testing Accuracy : 0.9859,Learin_rate:0.00039721432\n",
      "Iter19,Testing Accuracy : 0.9858,Learin_rate:0.0003773536\n",
      "Iter20,Testing Accuracy : 0.9855,Learin_rate:0.00035848594\n"
     ]
    }
   ],
   "source": [
    "with tf.Session() as sess:\n",
    "    sess.run(init)\n",
    "    for epoch in range(21):\n",
    "        sess.run(tf.assign(lr,0.001*(0.95**epoch)))\n",
    "        for batch in range(n_batch):\n",
    "            batch_xs , batch_ys = mnist.train.next_batch(batch_size)\n",
    "            sess.run(train_step , feed_dict={\n",
    "                x:batch_xs,\n",
    "                y:batch_ys\n",
    "            })\n",
    "        learning_rate = sess.run(lr)\n",
    "        acc = sess.run(accuracy , feed_dict={\n",
    "            x:mnist.test.images,\n",
    "            y:mnist.test.labels\n",
    "        })\n",
    "        print(\"Iter\" + str(epoch) + \",Testing Accuracy : \" + str(acc) + \",Learin_rate:\" + str(learning_rate))"
   ]
  }
 ],
 "metadata": {
  "kernelspec": {
   "display_name": "Python 3",
   "language": "python",
   "name": "python3"
  },
  "language_info": {
   "codemirror_mode": {
    "name": "ipython",
    "version": 3
   },
   "file_extension": ".py",
   "mimetype": "text/x-python",
   "name": "python",
   "nbconvert_exporter": "python",
   "pygments_lexer": "ipython3",
   "version": "3.7.0"
  }
 },
 "nbformat": 4,
 "nbformat_minor": 2
}
