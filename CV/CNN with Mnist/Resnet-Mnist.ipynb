{
 "cells": [
  {
   "cell_type": "code",
   "execution_count": 1,
   "metadata": {
    "scrolled": false
   },
   "outputs": [
    {
     "name": "stdout",
     "output_type": "stream",
     "text": [
      "WARNING:tensorflow:From <ipython-input-1-27ce6f682781>:3: read_data_sets (from tensorflow.contrib.learn.python.learn.datasets.mnist) is deprecated and will be removed in a future version.\n",
      "Instructions for updating:\n",
      "Please use alternatives such as official/mnist/dataset.py from tensorflow/models.\n",
      "WARNING:tensorflow:From /anaconda3/lib/python3.7/site-packages/tensorflow/contrib/learn/python/learn/datasets/mnist.py:260: maybe_download (from tensorflow.contrib.learn.python.learn.datasets.base) is deprecated and will be removed in a future version.\n",
      "Instructions for updating:\n",
      "Please write your own downloading logic.\n",
      "WARNING:tensorflow:From /anaconda3/lib/python3.7/site-packages/tensorflow/contrib/learn/python/learn/datasets/mnist.py:262: extract_images (from tensorflow.contrib.learn.python.learn.datasets.mnist) is deprecated and will be removed in a future version.\n",
      "Instructions for updating:\n",
      "Please use tf.data to implement this functionality.\n",
      "Extracting ./MNIST_data/train-images-idx3-ubyte.gz\n",
      "WARNING:tensorflow:From /anaconda3/lib/python3.7/site-packages/tensorflow/contrib/learn/python/learn/datasets/mnist.py:267: extract_labels (from tensorflow.contrib.learn.python.learn.datasets.mnist) is deprecated and will be removed in a future version.\n",
      "Instructions for updating:\n",
      "Please use tf.data to implement this functionality.\n",
      "Extracting ./MNIST_data/train-labels-idx1-ubyte.gz\n",
      "WARNING:tensorflow:From /anaconda3/lib/python3.7/site-packages/tensorflow/contrib/learn/python/learn/datasets/mnist.py:110: dense_to_one_hot (from tensorflow.contrib.learn.python.learn.datasets.mnist) is deprecated and will be removed in a future version.\n",
      "Instructions for updating:\n",
      "Please use tf.one_hot on tensors.\n",
      "Extracting ./MNIST_data/t10k-images-idx3-ubyte.gz\n",
      "Extracting ./MNIST_data/t10k-labels-idx1-ubyte.gz\n",
      "WARNING:tensorflow:From /anaconda3/lib/python3.7/site-packages/tensorflow/contrib/learn/python/learn/datasets/mnist.py:290: DataSet.__init__ (from tensorflow.contrib.learn.python.learn.datasets.mnist) is deprecated and will be removed in a future version.\n",
      "Instructions for updating:\n",
      "Please use alternatives such as official/mnist/dataset.py from tensorflow/models.\n"
     ]
    }
   ],
   "source": [
    "import tensorflow as tf\n",
    "from tensorflow.examples.tutorials.mnist import input_data\n",
    "mnist = input_data.read_data_sets(\"./MNIST_data\" , one_hot = True)\n",
    "## 每个批次的大小\n",
    "batch_size = 100\n",
    "\n",
    "# 计算一共有多少批次\n",
    "n_batch = mnist.train.num_examples  // batch_size"
   ]
  },
  {
   "cell_type": "code",
   "execution_count": 3,
   "metadata": {},
   "outputs": [],
   "source": [
    "def residual_block(x, output_channel):\n",
    "    \"\"\"residual connection implementation\"\"\"\n",
    "    input_channel = x.get_shape().as_list()[-1]\n",
    "    if input_channel * 2 == output_channel:\n",
    "        increase_dim = True\n",
    "        strides = (2, 2)\n",
    "    elif input_channel == output_channel:\n",
    "        increase_dim = False\n",
    "        strides = (1, 1)\n",
    "    else:\n",
    "        raise Exception(\"input channel can't match output channel\")\n",
    "    conv1 = tf.layers.conv2d(x,\n",
    "                             output_channel,\n",
    "                             (3,3),\n",
    "                             strides = strides,\n",
    "                             padding = 'same',\n",
    "                             activation = tf.nn.relu,\n",
    "                             name = 'conv1')\n",
    "    conv2 = tf.layers.conv2d(conv1,\n",
    "                             output_channel,\n",
    "                             (3, 3),\n",
    "                             strides = (1, 1),\n",
    "                             padding = 'same',\n",
    "                             activation = tf.nn.relu,\n",
    "                             name = 'conv2')\n",
    "    if increase_dim:\n",
    "        # [None, image_width, image_height, channel] -> [,,,channel*2]\n",
    "        pooled_x = tf.layers.average_pooling2d(x,\n",
    "                                               (2, 2),\n",
    "                                               (2, 2),\n",
    "                                               padding = 'valid')\n",
    "        padded_x = tf.pad(pooled_x,\n",
    "                          [[0,0],\n",
    "                           [0,0],\n",
    "                           [0,0],\n",
    "                           [input_channel // 2, input_channel // 2]])\n",
    "    else:\n",
    "        padded_x = x\n",
    "    output_x = conv2 + padded_x\n",
    "    return output_x"
   ]
  },
  {
   "cell_type": "code",
   "execution_count": 4,
   "metadata": {},
   "outputs": [],
   "source": [
    "def res_net(x, \n",
    "            num_residual_blocks, \n",
    "            num_filter_base,\n",
    "            class_num):\n",
    "    \n",
    "    num_subsampling = len(num_residual_blocks)\n",
    "    layers = []\n",
    "    # x: [None, width, height, channel] -> [width, height, channel]\n",
    "    input_size = x.get_shape().as_list()[1:]\n",
    "    with tf.variable_scope('conv0'):\n",
    "        conv0 = tf.layers.conv2d(x, \n",
    "                                 num_filter_base,\n",
    "                                 (3, 3),\n",
    "                                 strides = (1, 1),\n",
    "                                 padding = 'same',\n",
    "                                 activation = tf.nn.relu,\n",
    "                                 name = 'conv0')\n",
    "        layers.append(conv0)\n",
    "    # eg:num_subsampling = 4, sample_id = [0,1,2,3]\n",
    "    for sample_id in range(num_subsampling):\n",
    "        for i in range(num_residual_blocks[sample_id]):\n",
    "            with tf.variable_scope(\"conv%d_%d\" % (sample_id, i)):\n",
    "                conv = residual_block(\n",
    "                    layers[-1],\n",
    "                    num_filter_base * (2 ** sample_id))\n",
    "                layers.append(conv)\n",
    "    multiplier = 2 ** (num_subsampling - 1)\n",
    "    assert layers[-1].get_shape().as_list()[1:] \\\n",
    "        == [input_size[0] / multiplier,\n",
    "            input_size[1] / multiplier,\n",
    "            num_filter_base * multiplier]\n",
    "    with tf.variable_scope('fc'):\n",
    "        # layer[-1].shape : [None, width, height, channel]\n",
    "        # kernal_size: image_width, image_height\n",
    "        global_pool = tf.reduce_mean(layers[-1], [1,2])\n",
    "        logits = tf.layers.dense(global_pool, class_num)\n",
    "        layers.append(logits)\n",
    "    return layers[-1]"
   ]
  },
  {
   "cell_type": "code",
   "execution_count": 5,
   "metadata": {},
   "outputs": [
    {
     "name": "stdout",
     "output_type": "stream",
     "text": [
      "WARNING:tensorflow:From /anaconda3/lib/python3.7/site-packages/tensorflow/python/framework/op_def_library.py:263: colocate_with (from tensorflow.python.framework.ops) is deprecated and will be removed in a future version.\n",
      "Instructions for updating:\n",
      "Colocations handled automatically by placer.\n",
      "WARNING:tensorflow:From <ipython-input-4-a477568460f0>:24: conv2d (from tensorflow.python.layers.convolutional) is deprecated and will be removed in a future version.\n",
      "Instructions for updating:\n",
      "Use keras.layers.conv2d instead.\n",
      "WARNING:tensorflow:From <ipython-input-3-f8b66143d6e5>:31: average_pooling2d (from tensorflow.python.layers.pooling) is deprecated and will be removed in a future version.\n",
      "Instructions for updating:\n",
      "Use keras.layers.average_pooling2d instead.\n",
      "WARNING:tensorflow:From <ipython-input-4-a477568460f0>:42: dense (from tensorflow.python.layers.core) is deprecated and will be removed in a future version.\n",
      "Instructions for updating:\n",
      "Use keras.layers.dense instead.\n",
      "WARNING:tensorflow:From <ipython-input-5-0f6a95030300>:12: softmax_cross_entropy_with_logits (from tensorflow.python.ops.nn_ops) is deprecated and will be removed in a future version.\n",
      "Instructions for updating:\n",
      "\n",
      "Future major versions of TensorFlow will allow gradients to flow\n",
      "into the labels input on backprop by default.\n",
      "\n",
      "See `tf.nn.softmax_cross_entropy_with_logits_v2`.\n",
      "\n",
      "WARNING:tensorflow:From /anaconda3/lib/python3.7/site-packages/tensorflow/python/ops/math_ops.py:3066: to_int32 (from tensorflow.python.ops.math_ops) is deprecated and will be removed in a future version.\n",
      "Instructions for updating:\n",
      "Use tf.cast instead.\n"
     ]
    }
   ],
   "source": [
    "# 定义placeholder\n",
    "x = tf.placeholder(tf.float32 , [None , 784])\n",
    "y = tf.placeholder(tf.float32 , [None , 10])\n",
    "lr = tf.Variable(0.001,dtype=tf.float32)\n",
    "\n",
    "# 改变x的格式转为4D的向量 [batch , in_height , in_width , in_channels]\n",
    "x_image = tf.reshape(x , [-1,28,28,1])\n",
    "\n",
    "# 得到预测值\n",
    "prediction = res_net(x_image, [2,3,2], 32, 10)\n",
    "\n",
    "# 交叉熵代价函数\n",
    "loss = tf.reduce_mean(tf.nn.softmax_cross_entropy_with_logits(labels=y , logits=prediction))\n",
    "\n",
    "# 使用梯度下降\n",
    "train_step = tf.train.AdamOptimizer(lr).minimize(loss)\n",
    "\n",
    "# 结果存放在一个布尔型变量中\n",
    "correct_prediction = tf.equal(tf.argmax(y,1) , tf.argmax(prediction,1))\n",
    "\n",
    "# 求准确率\n",
    "accuracy = tf.reduce_mean(tf.cast(correct_prediction,tf.float32))"
   ]
  },
  {
   "cell_type": "code",
   "execution_count": 6,
   "metadata": {
    "scrolled": false
   },
   "outputs": [
    {
     "name": "stdout",
     "output_type": "stream",
     "text": [
      "Iter0,Testing Accuracy : 0.9778\n",
      "Iter1,Testing Accuracy : 0.9855\n",
      "Iter2,Testing Accuracy : 0.9889\n",
      "Iter3,Testing Accuracy : 0.9889\n",
      "Iter4,Testing Accuracy : 0.9936\n",
      "Iter5,Testing Accuracy : 0.9916\n",
      "Iter6,Testing Accuracy : 0.9932\n",
      "Iter7,Testing Accuracy : 0.9918\n",
      "Iter8,Testing Accuracy : 0.9939\n",
      "Iter9,Testing Accuracy : 0.993\n",
      "Iter10,Testing Accuracy : 0.9939\n",
      "Iter11,Testing Accuracy : 0.9942\n",
      "Iter12,Testing Accuracy : 0.9947\n",
      "Iter13,Testing Accuracy : 0.9914\n",
      "Iter14,Testing Accuracy : 0.9945\n",
      "Iter15,Testing Accuracy : 0.9938\n",
      "Iter16,Testing Accuracy : 0.9938\n",
      "Iter17,Testing Accuracy : 0.9919\n",
      "Iter18,Testing Accuracy : 0.9936\n",
      "Iter19,Testing Accuracy : 0.9917\n"
     ]
    },
    {
     "data": {
      "text/plain": [
       "'效果会更好，但是计算时间慢'"
      ]
     },
     "execution_count": 6,
     "metadata": {},
     "output_type": "execute_result"
    }
   ],
   "source": [
    "# 初始化变量\n",
    "init = tf.global_variables_initializer()\n",
    "\n",
    "with tf.Session() as sess:\n",
    "    sess.run(init)\n",
    "    for epoch in range(20):\n",
    "        sess.run(tf.assign(lr,0.0005*(0.95**epoch)))\n",
    "        for batch in range(n_batch):\n",
    "            batch_xs , batch_ys = mnist.train.next_batch(batch_size)\n",
    "            sess.run(train_step , feed_dict={\n",
    "                x:batch_xs,\n",
    "                y:batch_ys\n",
    "            })\n",
    "        acc = sess.run(accuracy , feed_dict={\n",
    "            x:mnist.test.images,\n",
    "            y:mnist.test.labels\n",
    "        })\n",
    "        print(\"Iter\" + str(epoch) + \",Testing Accuracy : \" + str(acc))\n",
    "\n",
    "'''效果会更好，但是计算时间慢'''"
   ]
  }
 ],
 "metadata": {
  "kernelspec": {
   "display_name": "Python 3",
   "language": "python",
   "name": "python3"
  },
  "language_info": {
   "codemirror_mode": {
    "name": "ipython",
    "version": 3
   },
   "file_extension": ".py",
   "mimetype": "text/x-python",
   "name": "python",
   "nbconvert_exporter": "python",
   "pygments_lexer": "ipython3",
   "version": "3.7.0"
  }
 },
 "nbformat": 4,
 "nbformat_minor": 2
}
